{
 "cells": [
  {
   "cell_type": "markdown",
   "id": "8f0fd799",
   "metadata": {},
   "source": [
    "# The Divergence in the School of Athens \n"
   ]
  },
  {
   "cell_type": "markdown",
   "id": "5e64040f",
   "metadata": {},
   "source": []
  },
  {
   "cell_type": "markdown",
   "id": "51ab2fe9",
   "metadata": {},
   "source": [
    "    One of the most famous frescoes in the entire world is the School of Athens. It is a Renaissance masterpiece created by Raphael between 1509 and 1511 and features the famous philosophers of the classical age. Even though there is a lot to discuss in this fresco, I want to draw your attention to the two main figures (picture above) : Plato pointing to the skies and his student Aristotle pointing in the earthward direction.\n",
    "\t\n",
    "    Why did Raphael depict them like this? According to Plato, the real world—the one made of material things—is but a shadow of the ideal one. An imperfect mirror of the ideal apple, for instance, can be seen in the imperfect apple that exists in the real world. Plato calls these perfect or ideal things their Forms, hence his theory of Forms. Theory of Forms is not limited to objects, we can also talk about the Form of education, the Form of friendship and so on. Contrary to his teacher, Aristotle asserts that the material world is real. He thinks that the Form is located in the physical world, inside the object in question. There cannot be an apple without applehood.\n",
    "    \n",
    "    You may now be able to understand what Raphael was trying to express. Plato gestures to the skies because he thought the Forms existed in another realm, while Aristotle points to the earth because he thought Forms existed in the real world.\n",
    "    \n",
    "    The main difference between Plato and Aristotle philosophy is that the philosophy of Plato is more theoretical and abstract in nature, whereas the philosophy of Aristotle is more practical and experimental in nature. This analysis is conducted to prove their differences and whether Aristotle really "
   ]
  },
  {
   "cell_type": "code",
   "execution_count": null,
   "id": "8ee21090",
   "metadata": {},
   "outputs": [],
   "source": []
  }
 ],
 "metadata": {
  "kernelspec": {
   "display_name": "Python 3 (ipykernel)",
   "language": "python",
   "name": "python3"
  },
  "language_info": {
   "codemirror_mode": {
    "name": "ipython",
    "version": 3
   },
   "file_extension": ".py",
   "mimetype": "text/x-python",
   "name": "python",
   "nbconvert_exporter": "python",
   "pygments_lexer": "ipython3",
   "version": "3.9.12"
  }
 },
 "nbformat": 4,
 "nbformat_minor": 5
}
